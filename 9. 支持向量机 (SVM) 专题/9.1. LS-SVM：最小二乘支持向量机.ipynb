{
 "cells": [
  {
   "cell_type": "markdown",
   "metadata": {},
   "source": [
    "### 1.最小二乘支持向量机的优化问题\n",
    "\n",
    "设数据矩阵$X\\in\\mathbb{R}^{n\\times p}$ ,标签$D=\\operatorname{diag}(y_1,\\cdots,y_n)$ ,若我们将截距项\n",
    "包含在设计矩阵$X$中，即设计矩阵形如：\n",
    "$$\\begin{gathered}X=\\begin{pmatrix}x_{11}&\\cdots&x_{1p}&1\\\\x_{21}&\\cdots&x_{2p}&1\\\\\\vdots&\\ddots&\\vdots&\\vdots\\\\x_{n1}&\\cdots&x_{np}&1\\end{pmatrix}\\end{gathered}$$\n",
    "### LSSVM的优化问题如式(1)所示：\n",
    "$$\\mathrm{min}\\frac12\\|w\\|^2+\\frac C2\\xi^T\\xi \\tag{1}$$\n",
    "$$s.t.DXw=e-\\xi$$\n",
    "\n",
    "\n",
    "其中$w\\in\\mathbb{R}^{p+1\\times1}$为超平面的系数向量，$\\xi=(\\xi_1,\\cdots,\\xi_n)^T$为松弛变量，\n",
    "$e$是其中元素全为1的一个向量。优化问题 (1)的拉格朗日函数为：\n",
    "\n",
    "$$\n",
    "\\begin{aligned}\\mathcal{L}=\\frac12\\|w\\|^2+\\frac C2\\xi^T\\xi+\\alpha^T(e-DXw-\\xi)&&&(2)\\end{aligned}\n",
    "\\tag{2}\n",
    "$$\n",
    "\n",
    "\n",
    "其中$\\alpha$为拉格朗日乘子。令拉格朗日函数分别对$w$ ,$\\xi$,$\\alpha$分别求导，并令\n",
    "其等于 0, 可以得到如下式子：\n",
    "$$\\mathcal{L}=\\frac12\\|w\\|^2+\\frac C2\\xi^T\\xi+\\alpha^T(e-DXw-\\xi)$$\n",
    "$$\\begin{aligned}&\\frac{\\partial\\mathcal{L}}{\\partial w}=w-X^TD\\alpha=0\\\\&\\frac{\\partial\\mathcal{L}}{\\partial\\xi}=C\\xi-\\alpha=0\\\\&\\frac{\\partial\\mathcal{L}}{\\partial\\alpha}=e-DXw-\\xi=0\\end{aligned}\\tag{3}$$\n",
    "根据 (3)式，我们可以解出：\n",
    "$$\\begin{aligned}w&=X^TD\\alpha\\\\\\xi&=\\frac\\alpha C\\end{aligned}\\tag{4}$$\n",
    "将 (4)式带入 (3) 式中最后一个式子，可以得到如下等式：\n",
    "\n",
    "$$e-DXX^TD\\alpha-\\frac\\alpha C=0\\tag{5}$$\n",
    "再对 (5)式进行化简，得到$e=(DXX^TD+\\frac IC)\\alpha$ ,那么最优解$\\alpha$的解\n",
    "析解就得到了：\n",
    "$$\\alpha=(DXX^TD+\\frac IC)^{-1}e\\tag{6}$$"
   ]
  }
 ],
 "metadata": {
  "language_info": {
   "name": "python"
  }
 },
 "nbformat": 4,
 "nbformat_minor": 2
}
