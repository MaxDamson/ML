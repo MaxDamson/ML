{
 "cells": [
  {
   "cell_type": "markdown",
   "metadata": {},
   "source": [
    "### 1. 介绍\n",
    "\n",
    "- **LPE**：邻域保持嵌入（Neighborhood Preserving Embedding，NPE）旨在保持数据流形上的局部邻域结构。\n",
    "- **优势**：NPE比PCA对异常值的敏感度更低。\n",
    "- **核扩展**：NPE可以在原始空间中进行，也可以在将数据点映射到的再生核希尔伯特空间中进行，这就产生了核NPE。"
   ]
  },
  {
   "cell_type": "markdown",
   "metadata": {},
   "source": [
    "### 2. 流程\n",
    "\n",
    "### 3.2 算法\n",
    "下面正式陈述算法步骤：\n",
    "1. **构建邻接图：** 设 $G$ 表示一个包含 $m$ 个节点的图。第 $i$ 个节点对应数据点 $\\mathbf{x}_i$。有两种方法构建邻接图：\n",
    "   - **K 近邻（KNN）：** 如果 $\\mathbf{x}_j$ 是 $\\mathbf{x}_i$ 的 $K$ 个最近邻之一，则从节点 $i$ 到节点 $j$ 添加一条有向边。\n",
    "   - **$\\epsilon$ 邻域：** 如果 $\\|\\mathbf{x}_j - \\mathbf{x}_i\\| \\leq \\epsilon$，则在节点 $i$ 和 $j$ 之间添加一条边。\n",
    "   \n",
    "   用第一种方法构建的图是有向图，而用第二种方法构建的图是无向图。在许多实际应用中，选择合适的 $\\epsilon$ 很困难。在本工作中，我们采用 KNN 方法构建邻接图。当计算复杂度是主要考虑因素时，可以切换到 $\\epsilon$ 邻域。我们用 $i \\sim j$ 表示从 $i$ 到 $j$ 有一条边。\n",
    "2. **计算权重：** 在这一步，我们计算边上的权重。设 $W$ 表示权重矩阵，其中 $W_{ij}$ 表示从节点 $i$ 到节点 $j$ 的边的权重，如果没有这样的边，则为 0。边上的权重通过最小化以下目标函数计算得到：\n",
    "   $$\n",
    "   \\min \\sum_i \\|\\mathbf{x}_i - \\sum_j W_{ij} \\mathbf{x}_j\\|^2\n",
    "   $$\n",
    "   约束条件为：\n",
    "   $$\n",
    "   \\sum_j W_{ij} = 1, \\quad j = 1, 2, \\ldots, m\n",
    "   $$\n",
    "   \n",
    "   解决上述最小化问题，得出矩阵$W$。\n",
    "3. **计算投影：** 在这一步，我们计算线性投影。解决以下广义特征向量问题：\n",
    "   $$\n",
    "   XMX^T\\mathbf{a} = \\lambda XX^T\\mathbf{a}\n",
    "   $$\n",
    "   (1)\n",
    "   其中，\n",
    "   $$\n",
    "   X = (\\mathbf{x}_1, \\cdots, \\mathbf{x}_m)\n",
    "   $$\n",
    "   $$\n",
    "   M = (I - W)^T(I - W)\n",
    "   $$\n",
    "   $$\n",
    "   I = \\text{diag}(1, \\cdots, 1)\n",
    "   $$\n",
    "   \n",
    "   很容易验证 $M$ 是对称且半正定的。\n",
    "   设列向量 $\\mathbf{a}_0, \\cdots, \\mathbf{a}_{d-1}$ 是方程 (1) 的解，按特征值顺序排列，$\\lambda_0 \\leq \\cdots \\leq \\lambda_{d-1}$。因此，嵌入如下：\n",
    "   $$\n",
    "   \\mathbf{x}_i \\to \\mathbf{y}_i = A^T\\mathbf{x}_i\n",
    "   $$\n",
    "   $$\n",
    "   A = (\\mathbf{a}_0, \\mathbf{a}_1, \\cdots, \\mathbf{a}_{d-1})\n",
    "   $$\n",
    "   其中，$\\mathbf{y}_i$ 是一个 $d$ 维向量，$A$ 是一个 $n \\times d$ 的矩阵。"
   ]
  }
 ],
 "metadata": {
  "language_info": {
   "name": "python"
  }
 },
 "nbformat": 4,
 "nbformat_minor": 2
}
