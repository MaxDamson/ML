{
 "cells": [
  {
   "cell_type": "markdown",
   "metadata": {},
   "source": [
    "### 1. 算法流程\n",
    "\n",
    "- **目标函数及求解**：\n",
    "  \n",
    "### 1.1. S矩阵定义：\n",
    "给定一个数据集 $\\{x_1, x_2, ..., x_n\\}$，我们首先定义每个数据点 $x_i$ 的 $\\epsilon$-近邻集合为 $N_{\\epsilon}(x_i)$，即与 $x_i$ 距离在 $\\epsilon$ 内的数据点的集合。然后，定义相似度矩阵 $S$ 如下：\n",
    "$$\n",
    "S_{ij} = \\begin{cases} \n",
    "\\exp\\left(-\\frac{\\left\\|x_i - x_j\\right\\|^2}{\\sigma^2}\\right) & \\text{if } x_j \\in N_{\\epsilon}(x_i) \\\\\n",
    "0 & \\text{otherwise}\n",
    "\\end{cases}\n",
    "$$\n",
    "\n",
    "定义度矩阵 $D$ 为：\n",
    "\n",
    "$$ D_{ii} = \\sum_{j} S_{ij} $$\n",
    "\n",
    "### 1.2. 目标函数：\n",
    "\n",
    "LPP的目标是通过投影矩阵 $W$ 将原始高维数据 $\\{x_1, x_2, ..., x_n\\}$ 映射到一个低维空间，使得在该低维空间中相邻数据点之间的欧氏距离尽可能小，而不相邻的数据点之间的欧氏距离尽可能大。为此，定义目标函数如下：\n",
    "$$\n",
    "\\min_{w} \\sum_{i,j} \\left\\|y_i - y_j\\right\\|^2 S_{ij}, \\quad s.t.\\  w^TXDX^Tw = 1\n",
    "$$\n",
    "\n",
    "其中满足 $y=w^Tx$\n",
    "\n",
    "### 1.3. 推导过程及结果：\n",
    "\n",
    "构造拉格朗日函数：\n",
    "$$\n",
    "L(w, \\lambda) = Tr[w^TX(D-S)X^Tw + \\lambda(1 - w^TXDX^Tw)]\n",
    "$$\n",
    "\n",
    "对 $w$ 求导并令导数为零，得到：\n",
    "$$\n",
    "X(D-S)X^Tw = \\lambda XDX^Tw\n",
    "$$\n",
    "\n",
    "即求解关于w的广义特征向量问题。"
   ]
  }
 ],
 "metadata": {
  "language_info": {
   "name": "python"
  }
 },
 "nbformat": 4,
 "nbformat_minor": 2
}
