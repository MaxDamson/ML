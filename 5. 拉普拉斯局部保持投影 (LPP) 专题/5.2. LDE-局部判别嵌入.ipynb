{
 "cells": [
  {
   "cell_type": "markdown",
   "metadata": {},
   "source": [
    "### 1. 介绍\n",
    "\n",
    "- **LDE**：局部判别嵌入类似于LPP，但是是有监督的线性降维方法。\n",
    "- **特点**：有监督，既保持局部几何结构，又增强了类间可分性和类内紧凑性。\n",
    "- **流程**：记成LDA和LPP的结合即可\n",
    "\n",
    "  1. **目标函数**：令同类别图$G$的LPP目标函数为1，最大化不同类别图$G'$的LPP目标函数（类比LDA的最大化$S_b$和约束$S_w$）\n",
    "  2. **求解流程**：按照LPP的方法求解，取前几个最大特征值对应的特征向量按照$y=v^Tx$降维嵌入。"
   ]
  },
  {
   "cell_type": "markdown",
   "metadata": {},
   "source": [
    "### 2. 算法流程\n",
    "\n",
    "为了方便介绍，我们首先描述LDE算法的步骤，然后详细解释这些步骤。回忆一下，数据点$\\{\\mathrm{x}_i\\}_{i=1}^m$位于$\\mathbb{R}^n$中，每个$x_i$由某个类别标签$y_i$标记。将数据矩阵写为$X=[\\mathrm{x}_{1}\\mathrm{~x}_{2}\\cdots\\mathrm{~x}_{m}]\\in\\mathbb{R}^{n\\times m}$，要优化的目标函数为：\n",
    "\n",
    "$$\n",
    "\\max_V\\sum_{i,j}\\|V^{T}\\mathrm{x}_{i}-V^{T}\\mathrm{x}_{j}\\|^{2}W_{ij}^{\\prime}\\\\\\text{}\\\\\\mathrm{s.t.~}\\sum\\|V^{T}\\mathrm{x}_{i}-V^{T}\\mathrm{x}_{j}\\|^{2}W_{ij}=1.\n",
    "$$\n",
    "\n",
    "提出的LDE可以通过以下三个步骤实现：\n",
    "\n",
    "1. **构建邻域图**\n",
    "   \n",
    "   - 设$G$代表相同标签内的关系（若不同则均为0）\n",
    "  \n",
    "   - $G^\\prime$代表不同标签间的关系（若相同则均为0）\n",
    "\n",
    "2. **计算亲和权重**。\n",
    "   \n",
    "   指定$G$的亲和矩阵$W$，其中每个元素$w_{ij}$表示$x_i$和$x_j$之间的边的权重，均表示为\n",
    "   $$\n",
    "   w_{ij}=\\exp[-\\|\\mathrm{x}_i-\\mathrm{x}_j\\|^2/t].\n",
    "   $$\n",
    "   和LPP一样，若$x_i$和$x_j$之间的边不存在，则$w_{ij}=0$。\n",
    "\n",
    "3. **完成嵌入**。找到对应于$\\ell$个最大特征值的广义特征向量$\\mathrm{v}_1,\\mathrm{v}_2,\\ldots,\\mathrm{v}_\\ell$，满足\n",
    "   $$\n",
    "   X(D'-W')X^T\\mathrm{v}=\\lambda X(D-W)X^T\\mathrm{v}\\:\n",
    "   $$\n",
    "   其中，$D$和$D^{\\prime}$是对角矩阵，对角元素分别为$d_{ii}=\\sum_jw_{ij}$和$d_{ii}^\\prime=\\sum_jw_{ij}^\\prime$。通过$z_i=V^T\\mathrm{x}_i$完成$x_i$的嵌入，其中  $V=\\begin{bmatrix}\\mathbf{v}_1\\mathbf{v}_2\\cdots\\mathbf{v}_\\ell\\end{bmatrix}$"
   ]
  },
  {
   "cell_type": "markdown",
   "metadata": {},
   "source": [
    "### 3. 摘要翻译\n",
    "\n",
    "我们提出了一种新的方法，称为局部判别嵌入（Local Discriminant Embedding, LDE），用于流形学习和模式分类。在我们的框架中，数据的邻居和类别关系被用于构建嵌入以解决分类问题。该算法通过求解优化问题来学习每个类别子流形的嵌入。在嵌入到低维子空间后，同一类别的数据点保持其内在的邻居关系，而不同类别的邻近点不再紧密相连。通过这种嵌入，新测试数据由于具有局部判别特性，因此可以通过最近邻规则更可靠地进行分类。我们还描述了两种有用的变体：二维LDE和核LDE。为了证明我们方法的有效性，我们进行了全面的比较和广泛的人脸识别实验。"
   ]
  }
 ],
 "metadata": {
  "language_info": {
   "name": "python"
  }
 },
 "nbformat": 4,
 "nbformat_minor": 2
}
