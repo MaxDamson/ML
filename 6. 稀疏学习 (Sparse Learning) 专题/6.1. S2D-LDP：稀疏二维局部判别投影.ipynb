{
 "cells": [
  {
   "cell_type": "markdown",
   "metadata": {},
   "source": [
    "# S2DLPP: Sparse Two-Dimensional Local Discriminant Projection for Face Recognition\n",
    "\n",
    "二维局部图嵌入判别分析（2DLGEDA）和二维判别局部保持投影（2DDLPP）最近被提出，用于直接从二维人脸矩阵中提取特征，以改善二维局部保持投影（2DLPP）的性能。但是，所有这些方法都需要高计算成本，且学习到的转换矩阵缺乏直观和语义解释。在本文中，我们提出了一种名为稀疏二维局部判别投影（S2DLDP）的新方法，这是基于图的图像特征提取方法的稀疏扩展。\n",
    "\n",
    "- **S2DLDP 结合了谱分析和 L1-范数回归，使用弹性网来学习稀疏投影。**\n",
    "\n",
    "与现有的二维方法如2DLPP、2DDLP 和 2DLGEDA 不同，S2DLDP 能学习到稀疏的二维面部轮廓子空间（也称为稀疏面部），这为面部表示提供了直观、语义且可解释的特征子空间。我们指出，使用 S2DLDP 进行面部特征提取本质上是将二维面部图像投影到这些语义面部轮廓子空间上，在这些子空间上也进行面部识别。在 Yale、ORL 和 AR 面部数据库上的实验显示了 S2DLDP 的效率和有效性。\n",
    "\n",
    "## 损失函数：\n",
    "\n",
    "\n",
    "$$\n",
    "\\varphi_l=\\arg\\min_\\varphi\\left(\\sum_{i=1}^m\\sum_{h=1}^{n_1}(X_i(h,:)\\times\\varphi-y_i^l)^2+\\alpha\\sum_{j=1}^{n_2}\\overline{\\varphi}_j^2+\\beta\\sum_{j=1}^{n_2}\\left|\\overline{\\varphi}_j\\right|\\right)\n",
    "$$\n",
    "\n",
    "\n",
    "这个公式是用于最小化一个特定的目标函数，该函数用于学习一个映射 $\\varphi$，该映射将输入数据 $X_i$ 映射到一个低维空间，同时满足一些特定的约束条件。公式中的各个部分可以分解如下：\n",
    "1. **目标函数的第一部分**：\n",
    "   $$\n",
    "   \\sum_{i=1}^m\\sum_{h=1}^{n_1}(X_i(h,:)\\times\\varphi-y_i^l)^2\n",
    "   $$\n",
    "   这部分是损失函数的主要部分，它衡量了映射 $\\varphi$ 将输入数据 $X_i$ 映射到低维空间后，得到的向量 $\\varphi$ 与目标向量 $y_i^l$ 之间的平方误差。这里的 $X_i(h,:)$ 表示数据矩阵 $X_i$ 的第 $h$ 行，$\\times$ 表示克罗内克积（Kronecker product），这是一个特殊的矩阵乘法，用于两个矩阵的元素级乘积。\n",
    "2. **目标函数的第二部分**：\n",
    "   $$\n",
    "   \\alpha\\sum_{j=1}^{n_2}\\overline{\\varphi}_j^2\n",
    "   $$\n",
    "   这部分是一个正则化项，用于防止过拟合。它鼓励映射 $\\varphi$ 中的每个元素保持较小的大小，其中 $\\overline{\\varphi}_j$ 表示映射 $\\varphi$ 的第 $j$ 个列向量的 L2-范数。参数 $\\alpha$ 控制正则化的强度。\n",
    "3. **目标函数的第三部分**：\n",
    "   $$\n",
    "   \\beta\\sum_{j=1}^{n_2}\\left|\\overline{\\varphi}_j\\right|\n",
    "   $$\n",
    "   这部分是一个稀疏性正则化项，它鼓励映射 $\\varphi$ 中的列向量尽可能稀疏。这里的 $\\left|\\overline{\\varphi}_j\\right|$ 表示映射 $\\varphi$ 的第 $j$ 个列向量的 L1-范数。参数 $\\beta$ 控制稀疏性的强度。\n",
    "综合这三部分，目标函数 $\\varphi_l$ 试图找到一个映射 $\\varphi$，该映射在保持数据与其目标向量之间平方误差最小化的同时，也鼓励映射向量保持稀疏性和较小的范数。这种方法在降维、特征提取和数据可视化等领域中非常有用。"
   ]
  }
 ],
 "metadata": {
  "language_info": {
   "name": "python"
  }
 },
 "nbformat": 4,
 "nbformat_minor": 2
}
